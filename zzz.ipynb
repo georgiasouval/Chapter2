{
 "cells": [
  {
   "cell_type": "code",
   "execution_count": null,
   "metadata": {},
   "outputs": [
    {
     "name": "stdout",
     "output_type": "stream",
     "text": [
      "{'val': '/home/souval_g_WMGDS.WMG.WARWICK.AC.UK/Desktop/malp_framework/testing_material/data/images/val', 'train': '/home/souval_g_WMGDS.WMG.WARWICK.AC.UK/Desktop/malp_framework/testing_material/data/images/train', 'nc': 5, 'names': ['Pedestrian', 'Cyclist', 'Car', 'Truck', 'Tram']}\n",
      "val /home/souval_g_WMGDS.WMG.WARWICK.AC.UK/Desktop/malp_framework/testing_material/data/images/val\n",
      "train /home/souval_g_WMGDS.WMG.WARWICK.AC.UK/Desktop/malp_framework/testing_material/data/images/train\n",
      "nc 5\n",
      "names ['Pedestrian', 'Cyclist', 'Car', 'Truck', 'Tram']\n",
      "<class 'list'>\n"
     ]
    }
   ],
   "source": [
    "import os\n",
    "import glob\n",
    "\n",
    "exts = ('.jpeg', '.jpg', '.png', '.npy', '.raw')\n",
    "\n",
    "def gather_paths(images_dir, labels_dir, exts):\n",
    "    img_paths, label_paths = [], []\n",
    "    for ext in exts:\n",
    "        for img_path in glob.glob(os.path.join(images_dir, '*' + ext)):\n",
    "            basename = os.path.splitext(os.path.basename(img_path))[0]\n",
    "            label_path = os.path.join(labels_dir, basename + '.txt')\n",
    "            if os.path.exists(label_path):\n",
    "                img_paths.append(img_path)\n",
    "                label_paths.append(label_path)\n",
    "            else:\n",
    "                print('Label not found:', label_path)\n",
    "    return img_paths, label_paths\n",
    "\n",
    "\n",
    "def create_yolo_dataset(yaml_path,\n",
    "    mode='train',\n",
    "    transform=None,\n",
    "    device='cuda',\n",
    "    img_shape=(3,640,640),\n",
    "    norm_value=255):\n",
    "\n",
    "    train_dir, val_dir, test_dir = parse\n",
    "    if mode == 'train':\n",
    "        img_dir = train\n",
    "\n",
    "\n",
    "    "
   ]
  },
  {
   "cell_type": "code",
   "execution_count": 6,
   "metadata": {},
   "outputs": [
    {
     "name": "stdout",
     "output_type": "stream",
     "text": [
      "day-02025.txt\n"
     ]
    }
   ],
   "source": [
    "import os\n",
    "\n",
    "path = '/home/souval_g_WMGDS.WMG.WARWICK.AC.UK/Desktop/Multi-model-RAW-Network/data/labels/test/day-02025.txt'\n",
    "\n",
    "print(os.path.basename(path))"
   ]
  }
 ],
 "metadata": {
  "kernelspec": {
   "display_name": "yolo_day",
   "language": "python",
   "name": "python3"
  },
  "language_info": {
   "codemirror_mode": {
    "name": "ipython",
    "version": 3
   },
   "file_extension": ".py",
   "mimetype": "text/x-python",
   "name": "python",
   "nbconvert_exporter": "python",
   "pygments_lexer": "ipython3",
   "version": "3.10.15"
  }
 },
 "nbformat": 4,
 "nbformat_minor": 2
}
